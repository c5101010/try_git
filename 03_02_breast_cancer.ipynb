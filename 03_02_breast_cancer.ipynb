{
 "cells": [
  {
   "cell_type": "code",
   "execution_count": null,
   "metadata": {
    "ExecuteTime": {
     "end_time": "2017-06-22T08:20:41.862722Z",
     "start_time": "2017-06-22T08:20:41.618654Z"
    },
    "collapsed": true
   },
   "outputs": [],
   "source": [
    "# モジュールの準備\n",
    "import numpy as np"
   ]
  },
  {
   "cell_type": "code",
   "execution_count": null,
   "metadata": {
    "ExecuteTime": {
     "end_time": "2017-06-22T08:20:42.380904Z",
     "start_time": "2017-06-22T08:20:41.863598Z"
    },
    "collapsed": true
   },
   "outputs": [],
   "source": [
    "# ガンのデータを準備\n",
    "from sklearn.datasets import load_breast_cancer"
   ]
  },
  {
   "cell_type": "code",
   "execution_count": null,
   "metadata": {
    "ExecuteTime": {
     "end_time": "2017-06-22T08:20:42.396714Z",
     "start_time": "2017-06-22T08:20:42.382016Z"
    },
    "collapsed": true
   },
   "outputs": [],
   "source": [
    "# dataにデータをセット\n",
    "data = load_breast_cancer()"
   ]
  },
  {
   "cell_type": "code",
   "execution_count": null,
   "metadata": {
    "ExecuteTime": {
     "end_time": "2017-06-22T08:20:42.399969Z",
     "start_time": "2017-06-22T08:20:42.397766Z"
    },
    "collapsed": true
   },
   "outputs": [],
   "source": [
    "X = data.data # .dataにデータが入っている"
   ]
  },
  {
   "cell_type": "code",
   "execution_count": null,
   "metadata": {
    "ExecuteTime": {
     "end_time": "2017-06-22T08:20:42.409941Z",
     "start_time": "2017-06-22T08:20:42.401276Z"
    }
   },
   "outputs": [],
   "source": [
    "X.shape # データ個数×特徴数"
   ]
  },
  {
   "cell_type": "code",
   "execution_count": null,
   "metadata": {
    "ExecuteTime": {
     "end_time": "2017-06-22T08:20:42.415040Z",
     "start_time": "2017-06-22T08:20:42.411229Z"
    }
   },
   "outputs": [],
   "source": [
    "X[0] # 最初のデータ（30次元ベクトル）"
   ]
  },
  {
   "cell_type": "code",
   "execution_count": null,
   "metadata": {
    "ExecuteTime": {
     "end_time": "2017-06-22T08:20:42.419841Z",
     "start_time": "2017-06-22T08:20:42.416293Z"
    }
   },
   "outputs": [],
   "source": [
    "data.feature_names # 特徴の意味"
   ]
  },
  {
   "cell_type": "code",
   "execution_count": null,
   "metadata": {
    "ExecuteTime": {
     "end_time": "2017-06-22T08:20:42.423317Z",
     "start_time": "2017-06-22T08:20:42.421028Z"
    },
    "collapsed": true
   },
   "outputs": [],
   "source": [
    "y = data.target # .targetにラベルが入っている"
   ]
  },
  {
   "cell_type": "code",
   "execution_count": null,
   "metadata": {
    "ExecuteTime": {
     "end_time": "2017-06-22T08:20:42.428441Z",
     "start_time": "2017-06-22T08:20:42.424866Z"
    },
    "scrolled": true
   },
   "outputs": [],
   "source": [
    "y.shape # データ個数"
   ]
  },
  {
   "cell_type": "code",
   "execution_count": null,
   "metadata": {
    "ExecuteTime": {
     "end_time": "2017-06-22T08:20:42.435839Z",
     "start_time": "2017-06-22T08:20:42.429889Z"
    }
   },
   "outputs": [],
   "source": [
    "y"
   ]
  },
  {
   "cell_type": "code",
   "execution_count": null,
   "metadata": {
    "ExecuteTime": {
     "end_time": "2017-06-22T08:20:42.440249Z",
     "start_time": "2017-06-22T08:20:42.437202Z"
    }
   },
   "outputs": [],
   "source": [
    "y[0] # 最初のデータのラベル"
   ]
  },
  {
   "cell_type": "code",
   "execution_count": null,
   "metadata": {
    "ExecuteTime": {
     "end_time": "2017-06-22T08:20:42.445003Z",
     "start_time": "2017-06-22T08:20:42.441507Z"
    }
   },
   "outputs": [],
   "source": [
    "data.target_names # ラベルの意味"
   ]
  },
  {
   "cell_type": "code",
   "execution_count": null,
   "metadata": {
    "ExecuteTime": {
     "end_time": "2017-06-22T08:20:42.449194Z",
     "start_time": "2017-06-22T08:20:42.445984Z"
    }
   },
   "outputs": [],
   "source": [
    "print(data.DESCR) # データの詳細な記述"
   ]
  },
  {
   "cell_type": "code",
   "execution_count": null,
   "metadata": {
    "ExecuteTime": {
     "end_time": "2017-06-22T08:20:42.513571Z",
     "start_time": "2017-06-22T08:20:42.450732Z"
    },
    "collapsed": true
   },
   "outputs": [],
   "source": [
    "# 線形モデルを準備\n",
    "from sklearn import linear_model\n",
    "\n",
    "# 識別器を作成\n",
    "clf = linear_model.LogisticRegression()"
   ]
  },
  {
   "cell_type": "code",
   "execution_count": null,
   "metadata": {
    "ExecuteTime": {
     "end_time": "2017-06-22T08:20:42.518300Z",
     "start_time": "2017-06-22T08:20:42.514935Z"
    }
   },
   "outputs": [],
   "source": [
    "clf"
   ]
  },
  {
   "cell_type": "code",
   "execution_count": null,
   "metadata": {
    "ExecuteTime": {
     "end_time": "2017-06-22T08:20:42.522224Z",
     "start_time": "2017-06-22T08:20:42.519322Z"
    },
    "collapsed": true
   },
   "outputs": [],
   "source": [
    "n_samples = X.shape[0] # データの個数\n",
    "n_train   = n_samples // 2 # 半分のデータを学習\n",
    "n_test    = n_samples - n_train # テストデータ数"
   ]
  },
  {
   "cell_type": "code",
   "execution_count": null,
   "metadata": {
    "ExecuteTime": {
     "end_time": "2017-06-22T08:20:42.526697Z",
     "start_time": "2017-06-22T08:20:42.523744Z"
    },
    "collapsed": true
   },
   "outputs": [],
   "source": [
    "# 0,1,...,n_train-1：最初の半分\n",
    "train_index = range(0, n_train)\n",
    "\n",
    "# n_train,n_train+1,...,n_samples-1：残りの半分\n",
    "test_index  = range(n_train, n_samples)"
   ]
  },
  {
   "cell_type": "code",
   "execution_count": null,
   "metadata": {
    "ExecuteTime": {
     "end_time": "2017-06-22T08:20:42.534227Z",
     "start_time": "2017-06-22T08:20:42.527963Z"
    }
   },
   "outputs": [],
   "source": [
    "# 確認してみる\n",
    "np.array(train_index), np.array(test_index)"
   ]
  },
  {
   "cell_type": "code",
   "execution_count": null,
   "metadata": {
    "ExecuteTime": {
     "end_time": "2017-06-22T08:20:42.538980Z",
     "start_time": "2017-06-22T08:20:42.535425Z"
    },
    "collapsed": true
   },
   "outputs": [],
   "source": [
    "X_train = X[train_index] # 学習データ\n",
    "X_test  = X[ test_index] # テストデータ\n",
    "\n",
    "y_train = y[train_index] # 学習データのラベル\n",
    "y_test  = y[ test_index] # テストデータのラベル"
   ]
  },
  {
   "cell_type": "code",
   "execution_count": null,
   "metadata": {
    "ExecuteTime": {
     "end_time": "2017-06-22T08:20:42.543364Z",
     "start_time": "2017-06-22T08:20:42.540255Z"
    },
    "collapsed": true
   },
   "outputs": [],
   "source": [
    "# 上とまったく同じ\n",
    "X_train, X_test = X[train_index], X[test_index]\n",
    "y_train, y_test = y[train_index], y[test_index]"
   ]
  },
  {
   "cell_type": "code",
   "execution_count": null,
   "metadata": {
    "ExecuteTime": {
     "end_time": "2017-06-22T08:20:42.571474Z",
     "start_time": "2017-06-22T08:20:42.544565Z"
    },
    "collapsed": true
   },
   "outputs": [],
   "source": [
    "clf.fit(X_train, y_train); # 識別器の学習"
   ]
  },
  {
   "cell_type": "code",
   "execution_count": null,
   "metadata": {
    "ExecuteTime": {
     "end_time": "2017-06-22T08:20:42.576637Z",
     "start_time": "2017-06-22T08:20:42.572705Z"
    }
   },
   "outputs": [],
   "source": [
    "print(clf.score(X_train, y_train)) # 学習データの精度"
   ]
  },
  {
   "cell_type": "code",
   "execution_count": null,
   "metadata": {
    "ExecuteTime": {
     "end_time": "2017-06-22T08:20:42.581281Z",
     "start_time": "2017-06-22T08:20:42.577772Z"
    }
   },
   "outputs": [],
   "source": [
    "print(clf.score(X_test, y_test)) # テストデータの精度"
   ]
  },
  {
   "cell_type": "code",
   "execution_count": null,
   "metadata": {
    "ExecuteTime": {
     "end_time": "2017-06-22T08:20:42.587396Z",
     "start_time": "2017-06-22T08:20:42.582599Z"
    }
   },
   "outputs": [],
   "source": [
    "clf.predict(X_test) # テストデータの識別"
   ]
  },
  {
   "cell_type": "code",
   "execution_count": null,
   "metadata": {
    "ExecuteTime": {
     "end_time": "2017-06-22T08:20:42.643479Z",
     "start_time": "2017-06-22T08:20:42.588595Z"
    },
    "scrolled": false,
    "slideshow": {
     "slide_type": "slide"
    }
   },
   "outputs": [],
   "source": [
    "wrong = 0\n",
    "for i,j in zip(clf.predict(X_test), y_test):\n",
    "    if i == j:\n",
    "        print(i,j)\n",
    "    else:\n",
    "        print(i,j, \" Wrong!\") # 不正解\n",
    "        wrong += 1"
   ]
  },
  {
   "cell_type": "code",
   "execution_count": null,
   "metadata": {
    "ExecuteTime": {
     "end_time": "2017-06-22T08:20:42.647338Z",
     "start_time": "2017-06-22T08:20:42.644471Z"
    }
   },
   "outputs": [],
   "source": [
    "print(\"{0} / {1} = {2}\".format(wrong,\n",
    "                               n_test, \n",
    "                               1 - wrong / n_test ))"
   ]
  },
  {
   "cell_type": "code",
   "execution_count": null,
   "metadata": {
    "collapsed": true
   },
   "outputs": [],
   "source": []
  }
 ],
 "metadata": {
  "anaconda-cloud": {},
  "kernelspec": {
   "display_name": "Python 3",
   "language": "python",
   "name": "python3"
  },
  "language_info": {
   "codemirror_mode": {
    "name": "ipython",
    "version": 3
   },
   "file_extension": ".py",
   "mimetype": "text/x-python",
   "name": "python",
   "nbconvert_exporter": "python",
   "pygments_lexer": "ipython3",
   "version": "3.6.1"
  },
  "toc": {
   "colors": {
    "hover_highlight": "#DAA520",
    "running_highlight": "#FF0000",
    "selected_highlight": "#FFD700"
   },
   "moveMenuLeft": true,
   "nav_menu": {
    "height": "12px",
    "width": "252px"
   },
   "navigate_menu": true,
   "number_sections": true,
   "sideBar": true,
   "threshold": 4,
   "toc_cell": false,
   "toc_section_display": "block",
   "toc_window_display": false,
   "widenNotebook": false
  }
 },
 "nbformat": 4,
 "nbformat_minor": 1
}
