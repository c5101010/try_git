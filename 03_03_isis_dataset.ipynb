{
 "cells": [
  {
   "cell_type": "code",
   "execution_count": null,
   "metadata": {
    "ExecuteTime": {
     "end_time": "2017-06-22T08:20:56.182920Z",
     "start_time": "2017-06-22T08:20:55.929609Z"
    },
    "collapsed": true
   },
   "outputs": [],
   "source": [
    "# numpyの準備\n",
    "import numpy as np"
   ]
  },
  {
   "cell_type": "code",
   "execution_count": null,
   "metadata": {
    "ExecuteTime": {
     "end_time": "2017-06-22T08:20:56.458951Z",
     "start_time": "2017-06-22T08:20:56.184307Z"
    },
    "collapsed": true
   },
   "outputs": [],
   "source": [
    "# あやめのデータを準備\n",
    "from sklearn.datasets import load_iris"
   ]
  },
  {
   "cell_type": "code",
   "execution_count": null,
   "metadata": {
    "ExecuteTime": {
     "end_time": "2017-06-22T08:20:56.476203Z",
     "start_time": "2017-06-22T08:20:56.459905Z"
    },
    "collapsed": true
   },
   "outputs": [],
   "source": [
    "# dataにデータをセット\n",
    "data = load_iris()"
   ]
  },
  {
   "cell_type": "code",
   "execution_count": null,
   "metadata": {
    "ExecuteTime": {
     "end_time": "2017-06-22T08:20:56.479460Z",
     "start_time": "2017-06-22T08:20:56.477257Z"
    },
    "collapsed": true
   },
   "outputs": [],
   "source": [
    "X = data.data # .dataにデータが入っている"
   ]
  },
  {
   "cell_type": "code",
   "execution_count": null,
   "metadata": {
    "ExecuteTime": {
     "end_time": "2017-06-22T08:20:56.488934Z",
     "start_time": "2017-06-22T08:20:56.480725Z"
    },
    "collapsed": true
   },
   "outputs": [],
   "source": [
    "dir(data)"
   ]
  },
  {
   "cell_type": "code",
   "execution_count": null,
   "metadata": {
    "ExecuteTime": {
     "end_time": "2017-06-22T08:20:56.493822Z",
     "start_time": "2017-06-22T08:20:56.490347Z"
    },
    "collapsed": true
   },
   "outputs": [],
   "source": [
    "X.shape # データ個数×特徴数"
   ]
  },
  {
   "cell_type": "code",
   "execution_count": null,
   "metadata": {
    "ExecuteTime": {
     "end_time": "2017-06-22T08:20:56.498681Z",
     "start_time": "2017-06-22T08:20:56.495135Z"
    },
    "collapsed": true
   },
   "outputs": [],
   "source": [
    "X[0] # 最初のデータ（4次元ベクトル）"
   ]
  },
  {
   "cell_type": "code",
   "execution_count": null,
   "metadata": {
    "ExecuteTime": {
     "end_time": "2017-06-22T08:20:56.503688Z",
     "start_time": "2017-06-22T08:20:56.500219Z"
    },
    "collapsed": true
   },
   "outputs": [],
   "source": [
    "data.feature_names # 特徴の意味"
   ]
  },
  {
   "cell_type": "code",
   "execution_count": null,
   "metadata": {
    "ExecuteTime": {
     "end_time": "2017-06-22T08:20:56.507108Z",
     "start_time": "2017-06-22T08:20:56.504912Z"
    },
    "collapsed": true
   },
   "outputs": [],
   "source": [
    "y = data.target # .targetにラベルが入っている"
   ]
  },
  {
   "cell_type": "code",
   "execution_count": null,
   "metadata": {
    "ExecuteTime": {
     "end_time": "2017-06-22T08:20:56.512271Z",
     "start_time": "2017-06-22T08:20:56.508847Z"
    },
    "collapsed": true
   },
   "outputs": [],
   "source": [
    "y.shape # データ個数"
   ]
  },
  {
   "cell_type": "code",
   "execution_count": null,
   "metadata": {
    "ExecuteTime": {
     "end_time": "2017-06-22T08:20:56.518670Z",
     "start_time": "2017-06-22T08:20:56.513900Z"
    },
    "collapsed": true
   },
   "outputs": [],
   "source": [
    "y"
   ]
  },
  {
   "cell_type": "code",
   "execution_count": null,
   "metadata": {
    "ExecuteTime": {
     "end_time": "2017-06-22T08:20:56.524489Z",
     "start_time": "2017-06-22T08:20:56.520279Z"
    },
    "collapsed": true
   },
   "outputs": [],
   "source": [
    "y[0] # 最初のデータのラベル"
   ]
  },
  {
   "cell_type": "code",
   "execution_count": null,
   "metadata": {
    "ExecuteTime": {
     "end_time": "2017-06-22T08:20:56.529428Z",
     "start_time": "2017-06-22T08:20:56.525721Z"
    },
    "collapsed": true
   },
   "outputs": [],
   "source": [
    "data.target_names # ラベルの意味"
   ]
  },
  {
   "cell_type": "markdown",
   "metadata": {},
   "source": [
    "[Iris flower data set @ Wikipedia](https://en.wikipedia.org/wiki/Iris_flower_data_set)\n",
    "\n",
    "\n",
    "|class|image|license|\n",
    "|------|------|--|\n",
    "| Iris setosa |<img src=\"https://upload.wikimedia.org/wikipedia/commons/5/56/Kosaciec_szczecinkowaty_Iris_setosa.jpg\" width=200> | CC BY-SA 3.0 by Radomil |\n",
    "|Iris versicolor|<img src=\"https://upload.wikimedia.org/wikipedia/commons/4/41/Iris_versicolor_3.jpg\" width=200>|CC BY-SA 3.0 by Danielle Langlois|\n",
    "|Iris virginica|<img src=\"https://upload.wikimedia.org/wikipedia/commons/thumb/9/9f/Iris_virginica.jpg/736px-Iris_virginica.jpg\" width=200>|CC BY-SA 2.0|"
   ]
  },
  {
   "cell_type": "code",
   "execution_count": null,
   "metadata": {
    "ExecuteTime": {
     "end_time": "2017-06-22T08:20:56.533280Z",
     "start_time": "2017-06-22T08:20:56.530563Z"
    },
    "collapsed": true
   },
   "outputs": [],
   "source": [
    "print(data.DESCR) # データの詳細な記述"
   ]
  },
  {
   "cell_type": "code",
   "execution_count": null,
   "metadata": {
    "ExecuteTime": {
     "end_time": "2017-06-22T08:20:56.594645Z",
     "start_time": "2017-06-22T08:20:56.534473Z"
    },
    "collapsed": true
   },
   "outputs": [],
   "source": [
    "# 線形モデルを準備\n",
    "from sklearn import linear_model\n",
    "\n",
    "# 識別器を作成\n",
    "clf = linear_model.LogisticRegression()"
   ]
  },
  {
   "cell_type": "code",
   "execution_count": null,
   "metadata": {
    "ExecuteTime": {
     "end_time": "2017-06-22T08:20:56.598795Z",
     "start_time": "2017-06-22T08:20:56.595712Z"
    },
    "collapsed": true
   },
   "outputs": [],
   "source": [
    "clf"
   ]
  },
  {
   "cell_type": "code",
   "execution_count": null,
   "metadata": {
    "ExecuteTime": {
     "end_time": "2017-06-22T08:20:56.602967Z",
     "start_time": "2017-06-22T08:20:56.600385Z"
    },
    "collapsed": true
   },
   "outputs": [],
   "source": [
    "n_samples = X.shape[0] # データの個数\n",
    "n_train   = n_samples // 2 # 半分のデータを学習\n",
    "n_test    = n_samples - n_train # テストデータ数"
   ]
  },
  {
   "cell_type": "code",
   "execution_count": null,
   "metadata": {
    "ExecuteTime": {
     "end_time": "2017-06-22T08:20:56.606760Z",
     "start_time": "2017-06-22T08:20:56.604032Z"
    },
    "collapsed": true
   },
   "outputs": [],
   "source": [
    "# 0,1,...,n_train-1：最初の半分を学習データのインデックスに\n",
    "train_index = range(0, n_train)\n",
    "\n",
    "# n_train,n_train+1,...,n_samples-1：残りの半分をテストデータのインデックスに\n",
    "test_index  = range(n_train, n_samples)"
   ]
  },
  {
   "cell_type": "code",
   "execution_count": null,
   "metadata": {
    "ExecuteTime": {
     "end_time": "2017-06-22T08:20:56.613131Z",
     "start_time": "2017-06-22T08:20:56.608232Z"
    },
    "collapsed": true,
    "scrolled": false
   },
   "outputs": [],
   "source": [
    "np.array(train_index), np.array(test_index) # 確認してみる"
   ]
  },
  {
   "cell_type": "code",
   "execution_count": null,
   "metadata": {
    "ExecuteTime": {
     "end_time": "2017-06-22T08:20:56.617798Z",
     "start_time": "2017-06-22T08:20:56.614220Z"
    },
    "collapsed": true
   },
   "outputs": [],
   "source": [
    "X_train, X_test = X[train_index], X[test_index] # 学習データ，テストデータ\n",
    "y_train, y_test = y[train_index], y[test_index] # 学習データのラベル，テストデータのラベル"
   ]
  },
  {
   "cell_type": "code",
   "execution_count": null,
   "metadata": {
    "ExecuteTime": {
     "end_time": "2017-06-22T08:20:56.643532Z",
     "start_time": "2017-06-22T08:20:56.618855Z"
    },
    "collapsed": true
   },
   "outputs": [],
   "source": [
    "clf.fit(X_train, y_train); # 識別器の学習"
   ]
  },
  {
   "cell_type": "code",
   "execution_count": null,
   "metadata": {
    "ExecuteTime": {
     "end_time": "2017-06-22T08:20:56.648276Z",
     "start_time": "2017-06-22T08:20:56.644623Z"
    },
    "collapsed": true
   },
   "outputs": [],
   "source": [
    "print(clf.score(X_train, y_train)) # 学習データの精度"
   ]
  },
  {
   "cell_type": "code",
   "execution_count": null,
   "metadata": {
    "ExecuteTime": {
     "end_time": "2017-06-22T08:20:56.652987Z",
     "start_time": "2017-06-22T08:20:56.649401Z"
    },
    "collapsed": true
   },
   "outputs": [],
   "source": [
    "print(clf.score(X_test, y_test)) # テストデータの精度"
   ]
  },
  {
   "cell_type": "code",
   "execution_count": null,
   "metadata": {
    "ExecuteTime": {
     "end_time": "2017-06-22T08:20:56.659628Z",
     "start_time": "2017-06-22T08:20:56.654312Z"
    },
    "collapsed": true
   },
   "outputs": [],
   "source": [
    "clf.predict(X_test), y_test # テストデータの識別"
   ]
  },
  {
   "cell_type": "code",
   "execution_count": null,
   "metadata": {
    "ExecuteTime": {
     "end_time": "2017-06-22T08:20:56.682417Z",
     "start_time": "2017-06-22T08:20:56.660641Z"
    },
    "collapsed": true,
    "scrolled": false,
    "slideshow": {
     "slide_type": "slide"
    }
   },
   "outputs": [],
   "source": [
    "wrong = 0\n",
    "for i,j in zip(clf.predict(X_test), y_test):\n",
    "    if i == j:\n",
    "        print(i,j)\n",
    "    else:\n",
    "        print(i,j, \" Wrong!\")\n",
    "        wrong += 1"
   ]
  },
  {
   "cell_type": "code",
   "execution_count": null,
   "metadata": {
    "ExecuteTime": {
     "end_time": "2017-06-22T08:20:56.686899Z",
     "start_time": "2017-06-22T08:20:56.683687Z"
    },
    "collapsed": true
   },
   "outputs": [],
   "source": [
    "print(\"{0} / {1} = {2}\".format(wrong,\n",
    "                               n_test, \n",
    "                               1 - wrong / n_test ))"
   ]
  },
  {
   "cell_type": "markdown",
   "metadata": {},
   "source": [
    "# なぜこうなったのか？"
   ]
  },
  {
   "cell_type": "code",
   "execution_count": null,
   "metadata": {
    "collapsed": true
   },
   "outputs": [],
   "source": []
  },
  {
   "cell_type": "code",
   "execution_count": null,
   "metadata": {
    "collapsed": true
   },
   "outputs": [],
   "source": []
  },
  {
   "cell_type": "code",
   "execution_count": null,
   "metadata": {
    "collapsed": true
   },
   "outputs": [],
   "source": []
  },
  {
   "cell_type": "code",
   "execution_count": null,
   "metadata": {
    "collapsed": true
   },
   "outputs": [],
   "source": []
  },
  {
   "cell_type": "code",
   "execution_count": null,
   "metadata": {
    "collapsed": true
   },
   "outputs": [],
   "source": []
  },
  {
   "cell_type": "code",
   "execution_count": null,
   "metadata": {
    "collapsed": true
   },
   "outputs": [],
   "source": []
  },
  {
   "cell_type": "code",
   "execution_count": null,
   "metadata": {
    "collapsed": true
   },
   "outputs": [],
   "source": []
  },
  {
   "cell_type": "code",
   "execution_count": null,
   "metadata": {
    "collapsed": true
   },
   "outputs": [],
   "source": []
  },
  {
   "cell_type": "code",
   "execution_count": null,
   "metadata": {
    "ExecuteTime": {
     "end_time": "2017-06-22T08:20:56.693026Z",
     "start_time": "2017-06-22T08:20:56.687997Z"
    },
    "collapsed": true,
    "scrolled": true
   },
   "outputs": [],
   "source": [
    "y_train, y_test # 学習ラベルとテストラベルを確認してみる"
   ]
  },
  {
   "cell_type": "code",
   "execution_count": null,
   "metadata": {
    "ExecuteTime": {
     "end_time": "2017-06-22T08:20:56.696511Z",
     "start_time": "2017-06-22T08:20:56.694222Z"
    },
    "collapsed": true
   },
   "outputs": [],
   "source": [
    "# ランダムにシャッフルして，学習・テストに分割するモジュール\n",
    "from sklearn.model_selection import ShuffleSplit"
   ]
  },
  {
   "cell_type": "code",
   "execution_count": null,
   "metadata": {
    "ExecuteTime": {
     "end_time": "2017-06-22T08:20:56.700342Z",
     "start_time": "2017-06-22T08:20:56.697972Z"
    },
    "collapsed": true
   },
   "outputs": [],
   "source": [
    "ss = ShuffleSplit(n_splits=1,      # 分割を1個生成\n",
    "                  train_size=0.5,  # 学習は半分\n",
    "                  test_size =0.5,  # テストも半分\n",
    "                  random_state=0)  # 乱数種（再現用）"
   ]
  },
  {
   "cell_type": "code",
   "execution_count": null,
   "metadata": {
    "ExecuteTime": {
     "end_time": "2017-06-22T08:20:56.704515Z",
     "start_time": "2017-06-22T08:20:56.701816Z"
    },
    "collapsed": true
   },
   "outputs": [],
   "source": [
    "# 学習データとテストデータのインデックスを作成\n",
    "train_index, test_index = next(ss.split(X)) "
   ]
  },
  {
   "cell_type": "code",
   "execution_count": null,
   "metadata": {
    "ExecuteTime": {
     "end_time": "2017-06-22T08:20:56.712898Z",
     "start_time": "2017-06-22T08:20:56.705978Z"
    },
    "collapsed": true,
    "scrolled": false
   },
   "outputs": [],
   "source": [
    "list(train_index), list(test_index) # 確認してみる"
   ]
  },
  {
   "cell_type": "code",
   "execution_count": null,
   "metadata": {
    "ExecuteTime": {
     "end_time": "2017-06-22T08:20:56.717169Z",
     "start_time": "2017-06-22T08:20:56.714209Z"
    },
    "collapsed": true
   },
   "outputs": [],
   "source": [
    "X_train, X_test = X[train_index], X[test_index] # 学習データ，テストデータ\n",
    "y_train, y_test = y[train_index], y[test_index] # 学習データのラベル，テストデータのラベル"
   ]
  },
  {
   "cell_type": "code",
   "execution_count": null,
   "metadata": {
    "ExecuteTime": {
     "end_time": "2017-06-22T08:20:56.723738Z",
     "start_time": "2017-06-22T08:20:56.718804Z"
    },
    "collapsed": true
   },
   "outputs": [],
   "source": [
    "y_train, y_test # 学習ラベルとテストラベルを確認してみる"
   ]
  },
  {
   "cell_type": "code",
   "execution_count": null,
   "metadata": {
    "ExecuteTime": {
     "end_time": "2017-06-22T08:20:56.728123Z",
     "start_time": "2017-06-22T08:20:56.725190Z"
    },
    "collapsed": true
   },
   "outputs": [],
   "source": [
    "clf.fit(X_train, y_train); # 識別器の学習"
   ]
  },
  {
   "cell_type": "code",
   "execution_count": null,
   "metadata": {
    "ExecuteTime": {
     "end_time": "2017-06-22T08:20:56.732504Z",
     "start_time": "2017-06-22T08:20:56.729299Z"
    },
    "collapsed": true
   },
   "outputs": [],
   "source": [
    "print(clf.score(X_train, y_train)) # 学習データの精度"
   ]
  },
  {
   "cell_type": "code",
   "execution_count": null,
   "metadata": {
    "ExecuteTime": {
     "end_time": "2017-06-22T08:20:56.737303Z",
     "start_time": "2017-06-22T08:20:56.733628Z"
    },
    "collapsed": true
   },
   "outputs": [],
   "source": [
    "print(clf.score(X_test, y_test)) # テストデータの精度"
   ]
  },
  {
   "cell_type": "code",
   "execution_count": null,
   "metadata": {
    "ExecuteTime": {
     "end_time": "2017-06-22T08:20:56.742878Z",
     "start_time": "2017-06-22T08:20:56.738423Z"
    },
    "collapsed": true
   },
   "outputs": [],
   "source": [
    "clf.predict(X_test), y_test # テストデータの識別"
   ]
  },
  {
   "cell_type": "code",
   "execution_count": null,
   "metadata": {
    "ExecuteTime": {
     "end_time": "2017-06-22T08:20:56.761588Z",
     "start_time": "2017-06-22T08:20:56.744177Z"
    },
    "collapsed": true
   },
   "outputs": [],
   "source": [
    "wrong = 0\n",
    "for i,j in zip(clf.predict(X_test), y_test):\n",
    "    if i == j:\n",
    "        print(i,j)\n",
    "    else:\n",
    "        print(i,j, \" Wrong!\")\n",
    "        wrong += 1"
   ]
  },
  {
   "cell_type": "code",
   "execution_count": null,
   "metadata": {
    "ExecuteTime": {
     "end_time": "2017-06-22T08:20:56.765290Z",
     "start_time": "2017-06-22T08:20:56.762613Z"
    },
    "collapsed": true
   },
   "outputs": [],
   "source": [
    "print(\"{0} / {1} = {2}\".format(wrong,\n",
    "                               n_test, \n",
    "                               1 - wrong / n_test ))"
   ]
  },
  {
   "cell_type": "code",
   "execution_count": null,
   "metadata": {
    "collapsed": true
   },
   "outputs": [],
   "source": []
  }
 ],
 "metadata": {
  "anaconda-cloud": {},
  "kernelspec": {
   "display_name": "Python 3",
   "language": "python",
   "name": "python3"
  },
  "language_info": {
   "codemirror_mode": {
    "name": "ipython",
    "version": 3
   },
   "file_extension": ".py",
   "mimetype": "text/x-python",
   "name": "python",
   "nbconvert_exporter": "python",
   "pygments_lexer": "ipython3",
   "version": "3.6.1"
  },
  "toc": {
   "colors": {
    "hover_highlight": "#DAA520",
    "running_highlight": "#FF0000",
    "selected_highlight": "#FFD700"
   },
   "moveMenuLeft": true,
   "nav_menu": {
    "height": "30px",
    "width": "252px"
   },
   "navigate_menu": true,
   "number_sections": true,
   "sideBar": true,
   "threshold": 4,
   "toc_cell": false,
   "toc_section_display": "block",
   "toc_window_display": false,
   "widenNotebook": false
  }
 },
 "nbformat": 4,
 "nbformat_minor": 1
}
