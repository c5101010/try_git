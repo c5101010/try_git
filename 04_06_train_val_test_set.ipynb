{
 "cells": [
  {
   "cell_type": "code",
   "execution_count": null,
   "metadata": {
    "ExecuteTime": {
     "end_time": "2017-06-22T08:23:03.138619Z",
     "start_time": "2017-06-22T08:23:02.549708Z"
    },
    "collapsed": true
   },
   "outputs": [],
   "source": [
    "import numpy as np\n",
    "\n",
    "from sklearn.datasets import load_breast_cancer\n",
    "data = load_breast_cancer()\n",
    "\n",
    "X = data.data\n",
    "y = data.target\n",
    "\n",
    "from sklearn import linear_model\n",
    "clf = linear_model.LogisticRegression()\n",
    "\n",
    "\n",
    "from sklearn.model_selection import ShuffleSplit\n",
    "ss = ShuffleSplit(n_splits=1, \n",
    "                  train_size=0.8, \n",
    "                  test_size=0.2, \n",
    "                  random_state=0)\n",
    "\n",
    "train_index, test_index = next(ss.split(X, y))\n",
    "\n",
    "X_train, X_test = X[train_index], X[test_index]\n",
    "y_train, y_test = y[train_index], y[test_index]\n"
   ]
  },
  {
   "cell_type": "code",
   "execution_count": null,
   "metadata": {
    "ExecuteTime": {
     "end_time": "2017-06-22T08:23:03.210383Z",
     "start_time": "2017-06-22T08:23:03.139553Z"
    },
    "collapsed": true
   },
   "outputs": [],
   "source": [
    "from sklearn.model_selection import cross_val_score\n",
    "\n",
    "scores = cross_val_score(clf, \n",
    "                         X_train, y_train, \n",
    "                         cv=10) # StratifiedKFold"
   ]
  },
  {
   "cell_type": "code",
   "execution_count": null,
   "metadata": {
    "ExecuteTime": {
     "end_time": "2017-06-22T08:23:03.219188Z",
     "start_time": "2017-06-22T08:23:03.211530Z"
    }
   },
   "outputs": [],
   "source": [
    "scores.mean()"
   ]
  },
  {
   "cell_type": "code",
   "execution_count": null,
   "metadata": {
    "collapsed": true
   },
   "outputs": [],
   "source": []
  },
  {
   "cell_type": "code",
   "execution_count": null,
   "metadata": {
    "collapsed": true
   },
   "outputs": [],
   "source": []
  },
  {
   "cell_type": "code",
   "execution_count": null,
   "metadata": {
    "ExecuteTime": {
     "end_time": "2017-06-22T08:23:03.225670Z",
     "start_time": "2017-06-22T08:23:03.220777Z"
    }
   },
   "outputs": [],
   "source": [
    "C_range_exp = np.linspace(start=-15, stop=20, num=36)\n",
    "C_range = 10 ** C_range_exp\n",
    "print(C_range)"
   ]
  },
  {
   "cell_type": "code",
   "execution_count": null,
   "metadata": {
    "ExecuteTime": {
     "end_time": "2017-06-22T08:23:04.714953Z",
     "start_time": "2017-06-22T08:23:03.227067Z"
    },
    "collapsed": true
   },
   "outputs": [],
   "source": [
    "all_scores_mean = []\n",
    "all_scores_std  = []\n",
    "\n",
    "for C in C_range:\n",
    "    clf.C = C\n",
    "    scores = cross_val_score(clf, \n",
    "                             X_train, y_train,\n",
    "                             cv=10) # StratifiedKFold\n",
    "    \n",
    "    all_scores_mean.append(scores.mean())\n",
    "    all_scores_std.append(scores.std())"
   ]
  },
  {
   "cell_type": "code",
   "execution_count": null,
   "metadata": {
    "ExecuteTime": {
     "end_time": "2017-06-22T08:23:04.718394Z",
     "start_time": "2017-06-22T08:23:04.715911Z"
    },
    "collapsed": true
   },
   "outputs": [],
   "source": [
    "all_scores_mean = np.array(all_scores_mean)\n",
    "all_scores_std  = np.array(all_scores_std)"
   ]
  },
  {
   "cell_type": "code",
   "execution_count": null,
   "metadata": {
    "ExecuteTime": {
     "end_time": "2017-06-22T08:23:05.304106Z",
     "start_time": "2017-06-22T08:23:04.719832Z"
    }
   },
   "outputs": [],
   "source": [
    "import matplotlib.pyplot as plt\n",
    "%matplotlib inline\n",
    "\n",
    "plt.plot(C_range_exp, all_scores_mean)\n",
    "\n",
    "plt.errorbar(C_range_exp, \n",
    "             all_scores_mean, \n",
    "             yerr=all_scores_std)\n",
    "\n",
    "plt.ylim(0,1)\n",
    "plt.ylabel('accurary')\n",
    "plt.xlabel('$\\log_{10}$(C)')\n",
    "plt.title('Accuracy for different values of C')"
   ]
  },
  {
   "cell_type": "code",
   "execution_count": null,
   "metadata": {
    "ExecuteTime": {
     "end_time": "2017-06-22T08:23:05.308433Z",
     "start_time": "2017-06-22T08:23:05.305343Z"
    }
   },
   "outputs": [],
   "source": [
    "all_scores_mean.max()"
   ]
  },
  {
   "cell_type": "code",
   "execution_count": null,
   "metadata": {
    "ExecuteTime": {
     "end_time": "2017-06-22T08:23:05.311597Z",
     "start_time": "2017-06-22T08:23:05.309494Z"
    },
    "collapsed": true
   },
   "outputs": [],
   "source": [
    "max_index = np.argmax(all_scores_mean)"
   ]
  },
  {
   "cell_type": "code",
   "execution_count": null,
   "metadata": {
    "ExecuteTime": {
     "end_time": "2017-06-22T08:23:05.316338Z",
     "start_time": "2017-06-22T08:23:05.312925Z"
    }
   },
   "outputs": [],
   "source": [
    "C_range_exp[max_index]"
   ]
  },
  {
   "cell_type": "code",
   "execution_count": null,
   "metadata": {
    "ExecuteTime": {
     "end_time": "2017-06-22T08:23:05.320152Z",
     "start_time": "2017-06-22T08:23:05.317845Z"
    },
    "collapsed": true
   },
   "outputs": [],
   "source": [
    "clf.C = 10 ** C_range_exp[max_index]"
   ]
  },
  {
   "cell_type": "code",
   "execution_count": null,
   "metadata": {
    "ExecuteTime": {
     "end_time": "2017-06-22T08:23:05.330790Z",
     "start_time": "2017-06-22T08:23:05.321249Z"
    }
   },
   "outputs": [],
   "source": [
    "clf.fit(X_train, y_train)"
   ]
  },
  {
   "cell_type": "code",
   "execution_count": null,
   "metadata": {
    "ExecuteTime": {
     "end_time": "2017-06-22T08:23:05.335182Z",
     "start_time": "2017-06-22T08:23:05.331791Z"
    },
    "scrolled": true
   },
   "outputs": [],
   "source": [
    "clf.score(X_test, y_test)"
   ]
  },
  {
   "cell_type": "code",
   "execution_count": null,
   "metadata": {
    "collapsed": true
   },
   "outputs": [],
   "source": []
  },
  {
   "cell_type": "code",
   "execution_count": null,
   "metadata": {
    "collapsed": true
   },
   "outputs": [],
   "source": []
  },
  {
   "cell_type": "code",
   "execution_count": null,
   "metadata": {
    "ExecuteTime": {
     "end_time": "2017-06-22T08:23:05.343465Z",
     "start_time": "2017-06-22T08:23:05.336153Z"
    }
   },
   "outputs": [],
   "source": [
    "clf = linear_model.LogisticRegression()\n",
    "clf.fit(X_train, y_train)\n",
    "clf.score(X_test, y_test)"
   ]
  },
  {
   "cell_type": "code",
   "execution_count": null,
   "metadata": {
    "collapsed": true
   },
   "outputs": [],
   "source": []
  }
 ],
 "metadata": {
  "anaconda-cloud": {},
  "kernelspec": {
   "display_name": "Python 3",
   "language": "python",
   "name": "python3"
  },
  "language_info": {
   "codemirror_mode": {
    "name": "ipython",
    "version": 3
   },
   "file_extension": ".py",
   "mimetype": "text/x-python",
   "name": "python",
   "nbconvert_exporter": "python",
   "pygments_lexer": "ipython3",
   "version": "3.6.1"
  },
  "toc": {
   "colors": {
    "hover_highlight": "#DAA520",
    "running_highlight": "#FF0000",
    "selected_highlight": "#FFD700"
   },
   "moveMenuLeft": true,
   "nav_menu": {
    "height": "12px",
    "width": "252px"
   },
   "navigate_menu": true,
   "number_sections": true,
   "sideBar": true,
   "threshold": 4,
   "toc_cell": false,
   "toc_section_display": "block",
   "toc_window_display": false,
   "widenNotebook": false
  }
 },
 "nbformat": 4,
 "nbformat_minor": 1
}
